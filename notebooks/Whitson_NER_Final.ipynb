{
  "nbformat": 4,
  "nbformat_minor": 0,
  "metadata": {
    "colab": {
      "provenance": [],
      "gpuType": "T4"
    },
    "kernelspec": {
      "name": "python3",
      "display_name": "Python 3"
    },
    "language_info": {
      "name": "python"
    },
    "accelerator": "GPU"
  },
  "cells": [
    {
      "cell_type": "code",
      "source": [
        "import spacy\n",
        "from spacy.tokens import DocBin\n",
        "import json"
      ],
      "metadata": {
        "id": "VXbemI1nvxgA"
      },
      "execution_count": 1,
      "outputs": []
    },
    {
      "cell_type": "code",
      "source": [
        "!pip install spacy_transformers"
      ],
      "metadata": {
        "colab": {
          "base_uri": "https://localhost:8080/"
        },
        "id": "lb7yBFBrv6MD",
        "outputId": "b84df24f-9177-4641-b167-89fda815cfe0"
      },
      "execution_count": 2,
      "outputs": [
        {
          "output_type": "stream",
          "name": "stdout",
          "text": [
            "Collecting spacy_transformers\n",
            "  Downloading spacy_transformers-1.3.5-cp310-cp310-manylinux_2_17_x86_64.manylinux2014_x86_64.whl.metadata (7.0 kB)\n",
            "Requirement already satisfied: spacy<4.1.0,>=3.5.0 in /usr/local/lib/python3.10/dist-packages (from spacy_transformers) (3.7.5)\n",
            "Collecting transformers<4.37.0,>=3.4.0 (from spacy_transformers)\n",
            "  Downloading transformers-4.36.2-py3-none-any.whl.metadata (126 kB)\n",
            "\u001b[2K     \u001b[90m━━━━━━━━━━━━━━━━━━━━━━━━━━━━━━━━━━━━━━━━\u001b[0m \u001b[32m126.8/126.8 kB\u001b[0m \u001b[31m3.4 MB/s\u001b[0m eta \u001b[36m0:00:00\u001b[0m\n",
            "\u001b[?25hRequirement already satisfied: torch>=1.8.0 in /usr/local/lib/python3.10/dist-packages (from spacy_transformers) (2.5.1+cu121)\n",
            "Requirement already satisfied: srsly<3.0.0,>=2.4.0 in /usr/local/lib/python3.10/dist-packages (from spacy_transformers) (2.5.0)\n",
            "Collecting spacy-alignments<1.0.0,>=0.7.2 (from spacy_transformers)\n",
            "  Downloading spacy_alignments-0.9.1-cp310-cp310-manylinux_2_17_x86_64.manylinux2014_x86_64.whl.metadata (2.7 kB)\n",
            "Requirement already satisfied: numpy>=1.19.0 in /usr/local/lib/python3.10/dist-packages (from spacy_transformers) (1.26.4)\n",
            "Requirement already satisfied: spacy-legacy<3.1.0,>=3.0.11 in /usr/local/lib/python3.10/dist-packages (from spacy<4.1.0,>=3.5.0->spacy_transformers) (3.0.12)\n",
            "Requirement already satisfied: spacy-loggers<2.0.0,>=1.0.0 in /usr/local/lib/python3.10/dist-packages (from spacy<4.1.0,>=3.5.0->spacy_transformers) (1.0.5)\n",
            "Requirement already satisfied: murmurhash<1.1.0,>=0.28.0 in /usr/local/lib/python3.10/dist-packages (from spacy<4.1.0,>=3.5.0->spacy_transformers) (1.0.11)\n",
            "Requirement already satisfied: cymem<2.1.0,>=2.0.2 in /usr/local/lib/python3.10/dist-packages (from spacy<4.1.0,>=3.5.0->spacy_transformers) (2.0.10)\n",
            "Requirement already satisfied: preshed<3.1.0,>=3.0.2 in /usr/local/lib/python3.10/dist-packages (from spacy<4.1.0,>=3.5.0->spacy_transformers) (3.0.9)\n",
            "Requirement already satisfied: thinc<8.3.0,>=8.2.2 in /usr/local/lib/python3.10/dist-packages (from spacy<4.1.0,>=3.5.0->spacy_transformers) (8.2.5)\n",
            "Requirement already satisfied: wasabi<1.2.0,>=0.9.1 in /usr/local/lib/python3.10/dist-packages (from spacy<4.1.0,>=3.5.0->spacy_transformers) (1.1.3)\n",
            "Requirement already satisfied: catalogue<2.1.0,>=2.0.6 in /usr/local/lib/python3.10/dist-packages (from spacy<4.1.0,>=3.5.0->spacy_transformers) (2.0.10)\n",
            "Requirement already satisfied: weasel<0.5.0,>=0.1.0 in /usr/local/lib/python3.10/dist-packages (from spacy<4.1.0,>=3.5.0->spacy_transformers) (0.4.1)\n",
            "Requirement already satisfied: typer<1.0.0,>=0.3.0 in /usr/local/lib/python3.10/dist-packages (from spacy<4.1.0,>=3.5.0->spacy_transformers) (0.15.1)\n",
            "Requirement already satisfied: tqdm<5.0.0,>=4.38.0 in /usr/local/lib/python3.10/dist-packages (from spacy<4.1.0,>=3.5.0->spacy_transformers) (4.67.1)\n",
            "Requirement already satisfied: requests<3.0.0,>=2.13.0 in /usr/local/lib/python3.10/dist-packages (from spacy<4.1.0,>=3.5.0->spacy_transformers) (2.32.3)\n",
            "Requirement already satisfied: pydantic!=1.8,!=1.8.1,<3.0.0,>=1.7.4 in /usr/local/lib/python3.10/dist-packages (from spacy<4.1.0,>=3.5.0->spacy_transformers) (2.10.3)\n",
            "Requirement already satisfied: jinja2 in /usr/local/lib/python3.10/dist-packages (from spacy<4.1.0,>=3.5.0->spacy_transformers) (3.1.4)\n",
            "Requirement already satisfied: setuptools in /usr/local/lib/python3.10/dist-packages (from spacy<4.1.0,>=3.5.0->spacy_transformers) (75.1.0)\n",
            "Requirement already satisfied: packaging>=20.0 in /usr/local/lib/python3.10/dist-packages (from spacy<4.1.0,>=3.5.0->spacy_transformers) (24.2)\n",
            "Requirement already satisfied: langcodes<4.0.0,>=3.2.0 in /usr/local/lib/python3.10/dist-packages (from spacy<4.1.0,>=3.5.0->spacy_transformers) (3.5.0)\n",
            "Requirement already satisfied: filelock in /usr/local/lib/python3.10/dist-packages (from torch>=1.8.0->spacy_transformers) (3.16.1)\n",
            "Requirement already satisfied: typing-extensions>=4.8.0 in /usr/local/lib/python3.10/dist-packages (from torch>=1.8.0->spacy_transformers) (4.12.2)\n",
            "Requirement already satisfied: networkx in /usr/local/lib/python3.10/dist-packages (from torch>=1.8.0->spacy_transformers) (3.4.2)\n",
            "Requirement already satisfied: fsspec in /usr/local/lib/python3.10/dist-packages (from torch>=1.8.0->spacy_transformers) (2024.10.0)\n",
            "Requirement already satisfied: sympy==1.13.1 in /usr/local/lib/python3.10/dist-packages (from torch>=1.8.0->spacy_transformers) (1.13.1)\n",
            "Requirement already satisfied: mpmath<1.4,>=1.1.0 in /usr/local/lib/python3.10/dist-packages (from sympy==1.13.1->torch>=1.8.0->spacy_transformers) (1.3.0)\n",
            "Requirement already satisfied: huggingface-hub<1.0,>=0.19.3 in /usr/local/lib/python3.10/dist-packages (from transformers<4.37.0,>=3.4.0->spacy_transformers) (0.27.0)\n",
            "Requirement already satisfied: pyyaml>=5.1 in /usr/local/lib/python3.10/dist-packages (from transformers<4.37.0,>=3.4.0->spacy_transformers) (6.0.2)\n",
            "Requirement already satisfied: regex!=2019.12.17 in /usr/local/lib/python3.10/dist-packages (from transformers<4.37.0,>=3.4.0->spacy_transformers) (2024.11.6)\n",
            "Collecting tokenizers<0.19,>=0.14 (from transformers<4.37.0,>=3.4.0->spacy_transformers)\n",
            "  Downloading tokenizers-0.15.2-cp310-cp310-manylinux_2_17_x86_64.manylinux2014_x86_64.whl.metadata (6.7 kB)\n",
            "Requirement already satisfied: safetensors>=0.3.1 in /usr/local/lib/python3.10/dist-packages (from transformers<4.37.0,>=3.4.0->spacy_transformers) (0.4.5)\n",
            "Requirement already satisfied: language-data>=1.2 in /usr/local/lib/python3.10/dist-packages (from langcodes<4.0.0,>=3.2.0->spacy<4.1.0,>=3.5.0->spacy_transformers) (1.3.0)\n",
            "Requirement already satisfied: annotated-types>=0.6.0 in /usr/local/lib/python3.10/dist-packages (from pydantic!=1.8,!=1.8.1,<3.0.0,>=1.7.4->spacy<4.1.0,>=3.5.0->spacy_transformers) (0.7.0)\n",
            "Requirement already satisfied: pydantic-core==2.27.1 in /usr/local/lib/python3.10/dist-packages (from pydantic!=1.8,!=1.8.1,<3.0.0,>=1.7.4->spacy<4.1.0,>=3.5.0->spacy_transformers) (2.27.1)\n",
            "Requirement already satisfied: charset-normalizer<4,>=2 in /usr/local/lib/python3.10/dist-packages (from requests<3.0.0,>=2.13.0->spacy<4.1.0,>=3.5.0->spacy_transformers) (3.4.0)\n",
            "Requirement already satisfied: idna<4,>=2.5 in /usr/local/lib/python3.10/dist-packages (from requests<3.0.0,>=2.13.0->spacy<4.1.0,>=3.5.0->spacy_transformers) (3.10)\n",
            "Requirement already satisfied: urllib3<3,>=1.21.1 in /usr/local/lib/python3.10/dist-packages (from requests<3.0.0,>=2.13.0->spacy<4.1.0,>=3.5.0->spacy_transformers) (2.2.3)\n",
            "Requirement already satisfied: certifi>=2017.4.17 in /usr/local/lib/python3.10/dist-packages (from requests<3.0.0,>=2.13.0->spacy<4.1.0,>=3.5.0->spacy_transformers) (2024.12.14)\n",
            "Requirement already satisfied: blis<0.8.0,>=0.7.8 in /usr/local/lib/python3.10/dist-packages (from thinc<8.3.0,>=8.2.2->spacy<4.1.0,>=3.5.0->spacy_transformers) (0.7.11)\n",
            "Requirement already satisfied: confection<1.0.0,>=0.0.1 in /usr/local/lib/python3.10/dist-packages (from thinc<8.3.0,>=8.2.2->spacy<4.1.0,>=3.5.0->spacy_transformers) (0.1.5)\n",
            "Requirement already satisfied: click>=8.0.0 in /usr/local/lib/python3.10/dist-packages (from typer<1.0.0,>=0.3.0->spacy<4.1.0,>=3.5.0->spacy_transformers) (8.1.7)\n",
            "Requirement already satisfied: shellingham>=1.3.0 in /usr/local/lib/python3.10/dist-packages (from typer<1.0.0,>=0.3.0->spacy<4.1.0,>=3.5.0->spacy_transformers) (1.5.4)\n",
            "Requirement already satisfied: rich>=10.11.0 in /usr/local/lib/python3.10/dist-packages (from typer<1.0.0,>=0.3.0->spacy<4.1.0,>=3.5.0->spacy_transformers) (13.9.4)\n",
            "Requirement already satisfied: cloudpathlib<1.0.0,>=0.7.0 in /usr/local/lib/python3.10/dist-packages (from weasel<0.5.0,>=0.1.0->spacy<4.1.0,>=3.5.0->spacy_transformers) (0.20.0)\n",
            "Requirement already satisfied: smart-open<8.0.0,>=5.2.1 in /usr/local/lib/python3.10/dist-packages (from weasel<0.5.0,>=0.1.0->spacy<4.1.0,>=3.5.0->spacy_transformers) (7.1.0)\n",
            "Requirement already satisfied: MarkupSafe>=2.0 in /usr/local/lib/python3.10/dist-packages (from jinja2->spacy<4.1.0,>=3.5.0->spacy_transformers) (3.0.2)\n",
            "Requirement already satisfied: marisa-trie>=1.1.0 in /usr/local/lib/python3.10/dist-packages (from language-data>=1.2->langcodes<4.0.0,>=3.2.0->spacy<4.1.0,>=3.5.0->spacy_transformers) (1.2.1)\n",
            "Requirement already satisfied: markdown-it-py>=2.2.0 in /usr/local/lib/python3.10/dist-packages (from rich>=10.11.0->typer<1.0.0,>=0.3.0->spacy<4.1.0,>=3.5.0->spacy_transformers) (3.0.0)\n",
            "Requirement already satisfied: pygments<3.0.0,>=2.13.0 in /usr/local/lib/python3.10/dist-packages (from rich>=10.11.0->typer<1.0.0,>=0.3.0->spacy<4.1.0,>=3.5.0->spacy_transformers) (2.18.0)\n",
            "Requirement already satisfied: wrapt in /usr/local/lib/python3.10/dist-packages (from smart-open<8.0.0,>=5.2.1->weasel<0.5.0,>=0.1.0->spacy<4.1.0,>=3.5.0->spacy_transformers) (1.17.0)\n",
            "Requirement already satisfied: mdurl~=0.1 in /usr/local/lib/python3.10/dist-packages (from markdown-it-py>=2.2.0->rich>=10.11.0->typer<1.0.0,>=0.3.0->spacy<4.1.0,>=3.5.0->spacy_transformers) (0.1.2)\n",
            "Downloading spacy_transformers-1.3.5-cp310-cp310-manylinux_2_17_x86_64.manylinux2014_x86_64.whl (197 kB)\n",
            "\u001b[2K   \u001b[90m━━━━━━━━━━━━━━━━━━━━━━━━━━━━━━━━━━━━━━━━\u001b[0m \u001b[32m197.8/197.8 kB\u001b[0m \u001b[31m10.6 MB/s\u001b[0m eta \u001b[36m0:00:00\u001b[0m\n",
            "\u001b[?25hDownloading spacy_alignments-0.9.1-cp310-cp310-manylinux_2_17_x86_64.manylinux2014_x86_64.whl (313 kB)\n",
            "\u001b[2K   \u001b[90m━━━━━━━━━━━━━━━━━━━━━━━━━━━━━━━━━━━━━━━━\u001b[0m \u001b[32m314.0/314.0 kB\u001b[0m \u001b[31m20.2 MB/s\u001b[0m eta \u001b[36m0:00:00\u001b[0m\n",
            "\u001b[?25hDownloading transformers-4.36.2-py3-none-any.whl (8.2 MB)\n",
            "\u001b[2K   \u001b[90m━━━━━━━━━━━━━━━━━━━━━━━━━━━━━━━━━━━━━━━━\u001b[0m \u001b[32m8.2/8.2 MB\u001b[0m \u001b[31m80.1 MB/s\u001b[0m eta \u001b[36m0:00:00\u001b[0m\n",
            "\u001b[?25hDownloading tokenizers-0.15.2-cp310-cp310-manylinux_2_17_x86_64.manylinux2014_x86_64.whl (3.6 MB)\n",
            "\u001b[2K   \u001b[90m━━━━━━━━━━━━━━━━━━━━━━━━━━━━━━━━━━━━━━━━\u001b[0m \u001b[32m3.6/3.6 MB\u001b[0m \u001b[31m46.7 MB/s\u001b[0m eta \u001b[36m0:00:00\u001b[0m\n",
            "\u001b[?25hInstalling collected packages: spacy-alignments, tokenizers, transformers, spacy_transformers\n",
            "  Attempting uninstall: tokenizers\n",
            "    Found existing installation: tokenizers 0.21.0\n",
            "    Uninstalling tokenizers-0.21.0:\n",
            "      Successfully uninstalled tokenizers-0.21.0\n",
            "  Attempting uninstall: transformers\n",
            "    Found existing installation: transformers 4.47.1\n",
            "    Uninstalling transformers-4.47.1:\n",
            "      Successfully uninstalled transformers-4.47.1\n",
            "\u001b[31mERROR: pip's dependency resolver does not currently take into account all the packages that are installed. This behaviour is the source of the following dependency conflicts.\n",
            "sentence-transformers 3.3.1 requires transformers<5.0.0,>=4.41.0, but you have transformers 4.36.2 which is incompatible.\u001b[0m\u001b[31m\n",
            "\u001b[0mSuccessfully installed spacy-alignments-0.9.1 spacy_transformers-1.3.5 tokenizers-0.15.2 transformers-4.36.2\n"
          ]
        }
      ]
    },
    {
      "cell_type": "code",
      "source": [
        "!python -m spacy init config config.cfg --lang en --pipeline ner --optimize efficiency\n"
      ],
      "metadata": {
        "colab": {
          "base_uri": "https://localhost:8080/"
        },
        "id": "DQelNavJvpxj",
        "outputId": "22b2d90e-39af-40a5-fb85-de99be294052"
      },
      "execution_count": 3,
      "outputs": [
        {
          "output_type": "stream",
          "name": "stdout",
          "text": [
            "/usr/local/lib/python3.10/dist-packages/transformers/utils/generic.py:441: FutureWarning: `torch.utils._pytree._register_pytree_node` is deprecated. Please use `torch.utils._pytree.register_pytree_node` instead.\n",
            "  _torch_pytree._register_pytree_node(\n",
            "/usr/local/lib/python3.10/dist-packages/transformers/utils/generic.py:309: FutureWarning: `torch.utils._pytree._register_pytree_node` is deprecated. Please use `torch.utils._pytree.register_pytree_node` instead.\n",
            "  _torch_pytree._register_pytree_node(\n",
            "\u001b[38;5;4mℹ Generated config template specific for your use case\u001b[0m\n",
            "- Language: en\n",
            "- Pipeline: ner\n",
            "- Optimize for: efficiency\n",
            "- Hardware: CPU\n",
            "- Transformer: None\n",
            "\u001b[38;5;2m✔ Auto-filled config with all values\u001b[0m\n",
            "\u001b[38;5;2m✔ Saved config\u001b[0m\n",
            "config.cfg\n",
            "You can now add your data and train your pipeline:\n",
            "python -m spacy train config.cfg --paths.train ./train.spacy --paths.dev ./dev.spacy\n"
          ]
        }
      ]
    },
    {
      "cell_type": "code",
      "source": [
        "# Step 1: Load the JSON annotations\n",
        "def load_annotations(file_path):\n",
        "    with open(file_path, \"r\", encoding=\"utf-8\") as f:\n",
        "        data = json.load(f)\n",
        "    print(f\"Loaded {len(data)} annotations.\")\n",
        "    return data\n",
        "\n",
        "# Step 2: Convert to SpaCy format\n",
        "def create_spacy_data(data, output_path):\n",
        "    nlp = spacy.blank(\"en\")  # Create a blank English NLP pipeline\n",
        "    doc_bin = DocBin()  # SpaCy container for serialized documents\n",
        "\n",
        "    for item in data:\n",
        "        text, annotations = item[0], item[1]\n",
        "        doc = nlp.make_doc(text)\n",
        "        ents = []\n",
        "        for start, end, label in annotations.get(\"entities\", []):\n",
        "            span = doc.char_span(start, end, label=label)\n",
        "            if span is None:\n",
        "                print(f\"Skipping invalid span: {text[start:end]}\")\n",
        "            else:\n",
        "                ents.append(span)\n",
        "        doc.ents = ents\n",
        "        doc_bin.add(doc)\n",
        "    doc_bin.to_disk(output_path)\n",
        "    print(f\"Saved data to {output_path}\")\n",
        "\n",
        "# def create_spacy_data(data, output_path):\n",
        "#     nlp = spacy.blank(\"en\")  # Create a blank English model\n",
        "#     doc_bin = DocBin()  # Container for serialized training examples\n",
        "\n",
        "#     for item in data:\n",
        "#         text = item[\"text\"]\n",
        "#         annotations = item[\"entities\"]\n",
        "\n",
        "#         doc = nlp.make_doc(text)\n",
        "#         ents = []\n",
        "\n",
        "#         # Iterate through each entity and create a span\n",
        "#         for start, end, label in annotations:\n",
        "#             span = doc.char_span(start, end, label=label)\n",
        "\n",
        "#             if span is None:\n",
        "#                 # Check if the span is invalid and try to handle it\n",
        "#                 print(f\"Invalid span: {text[start:end]} (start: {start}, end: {end})\")\n",
        "#                 # Optional: If necessary, you can try adjusting the span here\n",
        "#             else:\n",
        "#                 ents.append(span)\n",
        "\n",
        "#         doc.ents = ents\n",
        "#         doc_bin.add(doc)\n",
        "\n",
        "#     doc_bin.to_disk(output_path)\n",
        "#     print(f\"Saved data to {output_path}\")\n",
        "\n",
        "# Step 3: Train the NER model\n",
        "def train_ner(train_data_path, dev_data_path, output_dir):\n",
        "    !python -m spacy train config.cfg \\\n",
        "        --paths.train {train_data_path} \\\n",
        "        --paths.dev {dev_data_path} \\\n",
        "        --output {output_dir}\n",
        "\n",
        "# Main function\n",
        "def main():\n",
        "    # File paths\n",
        "    input_json = \"/content/edited_annotations_v2.json\"\n",
        "    train_output = \"/content/train_data.spacy\"\n",
        "    dev_output = \"/content/dev_data.spacy\"\n",
        "    model_output = \"/content/output\"\n",
        "\n",
        "    # Load and process the annotations\n",
        "    data = load_annotations(input_json)\n",
        "    train_data = data[:int(0.8 * len(data))]  # 80% for training\n",
        "    dev_data = data[int(0.8 * len(data)):]    # 20% for validation\n",
        "\n",
        "    create_spacy_data(train_data, train_output)\n",
        "    create_spacy_data(dev_data, dev_output)\n",
        "\n",
        "    # Train the NER model\n",
        "    train_ner(train_output, dev_output, model_output)\n",
        "\n",
        "if __name__ == \"__main__\":\n",
        "    main()\n"
      ],
      "metadata": {
        "colab": {
          "base_uri": "https://localhost:8080/"
        },
        "id": "Ik9L90iyuYwb",
        "outputId": "e55a7fd8-7e59-4292-c84a-4aa8ae0dcbcd"
      },
      "execution_count": 5,
      "outputs": [
        {
          "output_type": "stream",
          "name": "stdout",
          "text": [
            "Loaded 101 annotations.\n",
            "Skipping invalid span: FLUID RECOVERY\n",
            "Skipping invalid span: FLUID RECOVERY\n",
            "Saved data to /content/train_data.spacy\n",
            "Skipping invalid span: FLUID RECOVERY\n",
            "Saved data to /content/dev_data.spacy\n",
            "\u001b[38;5;2m✔ Created output directory: /content/output\u001b[0m\n",
            "\u001b[38;5;4mℹ Saving to output directory: /content/output\u001b[0m\n",
            "\u001b[38;5;4mℹ Using CPU\u001b[0m\n",
            "\u001b[38;5;4mℹ To switch to GPU 0, use the option: --gpu-id 0\u001b[0m\n",
            "\u001b[1m\n",
            "=========================== Initializing pipeline ===========================\u001b[0m\n",
            "/usr/local/lib/python3.10/dist-packages/transformers/utils/generic.py:441: FutureWarning: `torch.utils._pytree._register_pytree_node` is deprecated. Please use `torch.utils._pytree.register_pytree_node` instead.\n",
            "  _torch_pytree._register_pytree_node(\n",
            "/usr/local/lib/python3.10/dist-packages/transformers/utils/generic.py:309: FutureWarning: `torch.utils._pytree._register_pytree_node` is deprecated. Please use `torch.utils._pytree.register_pytree_node` instead.\n",
            "  _torch_pytree._register_pytree_node(\n",
            "\u001b[38;5;2m✔ Initialized pipeline\u001b[0m\n",
            "\u001b[1m\n",
            "============================= Training pipeline =============================\u001b[0m\n",
            "\u001b[38;5;4mℹ Pipeline: ['tok2vec', 'ner']\u001b[0m\n",
            "\u001b[38;5;4mℹ Initial learn rate: 0.001\u001b[0m\n",
            "E    #       LOSS TOK2VEC  LOSS NER  ENTS_F  ENTS_P  ENTS_R  SCORE \n",
            "---  ------  ------------  --------  ------  ------  ------  ------\n",
            "  0       0          0.00    170.17    0.00    0.00    0.00    0.00\n",
            "  2     200       2634.56   4667.72   97.84   98.55   97.14    0.98\n",
            "  5     400         31.42     83.45   99.28  100.00   98.57    0.99\n",
            "  7     600        640.99     97.38   99.28  100.00   98.57    0.99\n",
            " 10     800         36.22     59.13  100.00  100.00  100.00    1.00\n",
            " 12    1000         30.18     46.02  100.00  100.00  100.00    1.00\n",
            " 15    1200         22.34     32.16  100.00  100.00  100.00    1.00\n",
            " 17    1400         20.38     25.95  100.00  100.00  100.00    1.00\n",
            " 20    1600         29.81     39.83  100.00  100.00  100.00    1.00\n",
            " 22    1800         55.35     52.97   97.87   97.18   98.57    0.98\n",
            " 25    2000         56.49     50.20  100.00  100.00  100.00    1.00\n",
            " 27    2200         98.66     51.66  100.00  100.00  100.00    1.00\n",
            " 30    2400         42.24     52.76  100.00  100.00  100.00    1.00\n",
            "\u001b[38;5;2m✔ Saved pipeline to output directory\u001b[0m\n",
            "/content/output/model-last\n"
          ]
        }
      ]
    },
    {
      "cell_type": "code",
      "source": [
        "import spacy\n",
        "\n",
        "# Load the trained model\n",
        "nlp = spacy.load(\"/content/output/model-best\")\n",
        "\n",
        "# Test on a new text\n",
        "test_text = \"RESERVOIR FLUID STUDY TABLE A1 ENCANA CORPORATION - SAXXON WELL 16-05-062-24W5M - - RECOMBINED SAMPLE CONSTANT VOLUME DEPLETION COMPOSITIONAL ANALYSIS OF RESERVOIR FLUID Boiling Point Component Chemical Mole Mass Calculated Properties (F) Name Symbol Fraction Fraction -320.4 Nitrogen N 0.0021 0.0015 Total Sample 2 -109.3 Carbon Dioxide CO 0.0035 0.0038 2 -76.6 Hydrogen Sulphide HS 0.0000 0.0000 Molecular Weight 40.42 2 -259.1 Methane C 0.6048 0.2402 Density (g/cc) 0.4044 1 -128.0 Ethane C 0.1317 0.0980 2 -44.0 Propane C 0.0604 0.0659 C Fraction 3 6+ 10.9 i-Butane i-C 0.0125 0.0179 4 30.9 n-Butane n-C 0.0279 0.0401 Molecular Weight 150.40 4 82.0 i-Pentane i-C 0.0120 0.0214 Mole Fraction 0.1303 5 97.0 n-Pentane n-C 0.0148 0.0263 Density (g/cc) 0.8022 5 97 - 156 Hexanes C 0.0184 0.0393 6 156 - 208.9 Heptanes C 0.0138 0.0342 C Fraction 7 7+ 208.9 - 258.1 Octanes C 0.0158 0.0445 8 258.1 - 303.1 Nonanes C 0.0120 0.0381 Molecular Weight 159.93 9 303.1 - 345 Decanes C 0.0086 0.0304 Mole Fraction 0.1114 10 345 - 385 Undecanes C 0.0076 0.0276 Density (g/cc) 0.8146 11 385 - 419 Dodecanes C 0.0057 0.0229 12 419 - 455 Tridecanes C 0.0054 0.0233 C Fraction 13 12+ 455 - 486 Tetradecanes C 0.0041 0.0192 14 486 - 519.1 Pentadecanes C 0.0030 0.0154 Molecular Weight 253.63 15 519.1 - 550 Hexadecanes C 0.0024 0.0131 Mole Fraction 0.0364 16 550 - 557 Heptadecanes C 0.0020 0.0118 Density (g/cc) 0.8654 17 557 - 603 Octadecanes C 0.0018 0.0114 18 603 - 626 Nonadecanes C 0.0016 0.0104 19 626 - 651.9 Eicosanes C 0.0012 0.0084 20 651.9 - 675 Heneicosanes C 0.0011 0.0076 21 675 - 696.9 Docosanes C 0.0009 0.0069 22 696.9 - 716 Tricosanes C 0.0008 0.0062 23 716 - 736 Tetracosanes C 0.0007 0.0058 24 736 - 755.1 Pentacosanes C 0.0006 0.0053 25 755.1 - 774 Hexacosanes C 0.0006 0.0049 Recombination Parameters 26 774.1 - 792 Heptacosanes C 0.0005 0.0043 27 792.1 - 809.1 Octacosanes C 0.0004 0.0038 Gas-Oil Ratio (cc/cc) 715.33 28 809.1 - 826 Nonacosanes C 0.0004 0.0035 Dead Oil Density (g/cc) 0.7595 29 Above 826 Tricontanes Plus C 0.0032 0.0439 Dead Oil MW (g/mol) 134.87 30+ NAPHTHENES 120.0 Cyclopentane CH 0.0004 0.0007 5 10 162.0 Methylcyclopentane CH 0.0020 0.0042 6 12 178.0 Cyclohexane CH 0.0024 0.0050 6 12 214.0 Methylcyclohexane CH 0.0057 0.0137 7 14 AROMATICS 176.0 Benzene C 6H 6 0.0004 0.0007 231.1 Toluene CH 0.0018 0.0041 7 8 277 - 282 Ethylbenzene & p,m-Xylene CH 0.0017 0.0045 8 10 291.9 o-Xylene CH 0.0012 0.0031 8 10 336.0 1, 2, 4-Trimethylbenzene CH 0.0021 0.0064 9 12 Total 1.0000 1.0000 Note: Physical Properties calculated based GPA 2145-00 physical constants 27\"\n",
        "test_text = \"ENCANA CORPORATION TABLE B27 ENCANA CORPORATION - WILLESDEN GREEN WELL 03-06-043-07 W5 - DUVERNAY - SAMPLE W3A7578 SAMPLE VALIDATION COMPOSITIONAL ANALYSIS OF FLASHED OIL Boiling Point Component Chemical Mole Mass Calculated Properties (F) Name Symbol Fraction Fraction -320.4 Nitrogen N 0.0000 0.0000 Total Sample 2 -109.3 Carbon Dioxide CO 0.0000 0.0000 2 -76.6 Hydrogen Sulphide HS 0.0000 0.0000 Molecular Weight 110.97 2 -259.1 Methane C 0.0000 0.0000 Density (g/cc) 0.7421 1 -128.0 Ethane C 0.0000 0.0000 2 -44.0 Propane C 0.0241 0.0096 C Fraction 3 6+ 10.9 i-Butane i-C 0.0256 0.0134 4 30.9 n-Butane n-C 0.0619 0.0324 Molecular Weight 125.57 4 82.0 i-Pentane i-C 0.0572 0.0372 Mole Fraction 0.7623 5 97.0 n-Pentane n-C 0.0689 0.0448 Density (g/cc) 0.7724 5 97 - 156 Hexanes C 0.1182 0.0918 6 156 - 208.9 Heptanes C 0.1012 0.0914 C Fraction 7 7+ 208.9 - 258.1 Octanes C 0.1172 0.1207 8 258.1 - 303.1 Nonanes C 0.0851 0.0983 Molecular Weight 132.98 9 303.1 - 345 Decanes C 0.0551 0.0707 Mole Fraction 0.6422 10 345 - 385 Undecanes C 0.0414 0.0548 Density (g/cc) 0.7844 11 385 - 419 Dodecanes C 0.0283 0.0411 12 419 - 455 Tridecanes C 0.0253 0.0399 C Fraction 13 12+ 455 - 486 Tetradecanes C 0.0174 0.0299 14 486 - 519.1 Pentadecanes C 0.0126 0.0233 Molecular Weight 208.26 15 519.1 - 550 Hexadecanes C 0.0084 0.0169 Mole Fraction 0.1228 16 550 - 557 Heptadecanes C 0.0069 0.0146 Density (g/cc) 0.8345 17 557 - 603 Octadecanes C 0.0055 0.0124 18 603 - 626 Nonadecanes C 0.0042 0.0100 C Fraction 19 30+ 626 - 651.9 Eicosanes C 0.0029 0.0072 20 651.9 - 675 Heneicosanes C 0.0024 0.0062 Molecular Weight 458.99 21 675 - 696.9 Docosanes C 0.0018 0.0050 Mole Fraction 0.0017 22 696.9 - 716 Tricosanes C 0.0014 0.0041 Density (g/cc) 0.9681 23 716 - 736 Tetracosanes C 0.0011 0.0034 24 736 - 755.1 Pentacosanes C 0.0009 0.0028 25 755.1 - 774 Hexacosanes C 0.0007 0.0023 26 774.1 - 792 Heptacosanes C 0.0005 0.0019 27 792.1 - 809.1 Octacosanes C 0.0004 0.0016 28 809.1 - 826 Nonacosanes C 0.0003 0.0013 29 Above 826 Tricontanes Plus C 0.0017 0.0070 30+ NAPHTHENES 0.20 120.0 Cyclopentane C 5H 10 0.0020 0.0012 0.18 162.0 Methylcyclopentane C 6H 12 0.0105 0.0080 0.16 178.0 Cyclohexane C 6H 12 0.0164 0.0125 0.14 214.0 Methylcyclohexane CH 0.0456 0.0404 7 14 0.12 0.10 AROMATICS 0.08 176.0 Benzene C 6H 6 0.0039 0.0027 0.06 231.1 Toluene CH 0.0187 0.0155 7 8 0.04 277 - 282 Ethylbenzene & p,m-Xylene CH 0.0109 0.0104 8 10 0.02 291.9 o-Xylene CH 0.0060 0.0057 8 10 0.00 336.0 1, 2, 4-Trimethylbenzene CH 0.0074 0.0081 9 12 Total 1.0000 1.0000 Note: Physical properties are calculated based on GPA 2145-00 physical constants GC ID: 2141 57 2N 2OC S2H 1C 2C 3C 4C 5C 6C 7C 8C 9C 01C 11C 21C 31C 41C 51C 61C 71C 81C 91C 02C 12C 22C 32C 42C 52C 62C 72C 82C 92C +03C\"\n",
        "doc = nlp(test_text)\n",
        "\n",
        "# Print recognized entities\n",
        "for ent in doc.ents:\n",
        "    print(ent.text, ent.label_)\n"
      ],
      "metadata": {
        "colab": {
          "base_uri": "https://localhost:8080/"
        },
        "id": "1klWPZ7QxrkU",
        "outputId": "fbbd3502-c3a3-414a-9446-610197bb8250"
      },
      "execution_count": 9,
      "outputs": [
        {
          "output_type": "stream",
          "name": "stderr",
          "text": [
            "/usr/local/lib/python3.10/dist-packages/spacy/util.py:1740: UserWarning: [W111] Jupyter notebook detected: if using `prefer_gpu()` or `require_gpu()`, include it in the same cell right before `spacy.load()` to ensure that the model is loaded on the correct device. More information: http://spacy.io/usage/v3#jupyter-notebook-gpu\n",
            "  warnings.warn(Warnings.W111)\n"
          ]
        },
        {
          "output_type": "stream",
          "name": "stdout",
          "text": [
            "SAMPLE W3A7578 SAMPLE\n",
            "SAMPLE VALIDATION EXPERIMENT\n",
            "COMPOSITIONAL ANALYSIS ANALYSIS\n",
            "FLASHED OIL FLUID\n"
          ]
        }
      ]
    },
    {
      "cell_type": "code",
      "source": [
        "!zip -r '/content/Duvernay_condensate_NER_v2' '/content/output/model-best'"
      ],
      "metadata": {
        "colab": {
          "base_uri": "https://localhost:8080/"
        },
        "id": "5d1d5oTPy6_y",
        "outputId": "3eeb22ea-78ea-47eb-d36d-da7d96bb15d7"
      },
      "execution_count": 6,
      "outputs": [
        {
          "output_type": "stream",
          "name": "stdout",
          "text": [
            "  adding: content/output/model-best/ (stored 0%)\n",
            "  adding: content/output/model-best/config.cfg (deflated 61%)\n",
            "  adding: content/output/model-best/meta.json (deflated 64%)\n",
            "  adding: content/output/model-best/tok2vec/ (stored 0%)\n",
            "  adding: content/output/model-best/tok2vec/cfg (stored 0%)\n",
            "  adding: content/output/model-best/tok2vec/model (deflated 8%)\n",
            "  adding: content/output/model-best/vocab/ (stored 0%)\n",
            "  adding: content/output/model-best/vocab/vectors (deflated 45%)\n",
            "  adding: content/output/model-best/vocab/strings.json (deflated 75%)\n",
            "  adding: content/output/model-best/vocab/lookups.bin (stored 0%)\n",
            "  adding: content/output/model-best/vocab/vectors.cfg (stored 0%)\n",
            "  adding: content/output/model-best/vocab/key2row (stored 0%)\n",
            "  adding: content/output/model-best/ner/ (stored 0%)\n",
            "  adding: content/output/model-best/ner/cfg (deflated 33%)\n",
            "  adding: content/output/model-best/ner/moves (deflated 62%)\n",
            "  adding: content/output/model-best/ner/model (deflated 8%)\n",
            "  adding: content/output/model-best/tokenizer (deflated 81%)\n"
          ]
        }
      ]
    }
  ]
}